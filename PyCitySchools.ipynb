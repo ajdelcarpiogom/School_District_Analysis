{
 "cells": [
  {
   "cell_type": "code",
   "execution_count": 5,
   "id": "dc691c62",
   "metadata": {},
   "outputs": [],
   "source": [
    "import pandas as pd\n",
    "import os"
   ]
  },
  {
   "cell_type": "code",
   "execution_count": 4,
   "id": "9341e8c0",
   "metadata": {},
   "outputs": [],
   "source": [
    "# Files to load\n",
    "schools_dtl = \"C:/Users/andre/Documents/Analysis_Projects/School_District_Analysis/schools_complete.csv\"\n",
    "students_dtl = \"C:/Users/andre/Documents/Analysis_Projects/School_District_Analysis/students_complete.csv\""
   ]
  },
  {
   "cell_type": "code",
   "execution_count": 10,
   "id": "fe6f71ed",
   "metadata": {},
   "outputs": [],
   "source": [
    "school_data_df = pd.read_csv(schools_dtl)\n",
    "student_data_df = pd.read_csv(students_dtl)"
   ]
  },
  {
   "cell_type": "code",
   "execution_count": null,
   "id": "ba345583",
   "metadata": {},
   "outputs": [],
   "source": []
  }
 ],
 "metadata": {
  "kernelspec": {
   "display_name": "PythonData",
   "language": "python",
   "name": "pythondata"
  },
  "language_info": {
   "codemirror_mode": {
    "name": "ipython",
    "version": 3
   },
   "file_extension": ".py",
   "mimetype": "text/x-python",
   "name": "python",
   "nbconvert_exporter": "python",
   "pygments_lexer": "ipython3",
   "version": "3.7.10"
  }
 },
 "nbformat": 4,
 "nbformat_minor": 5
}
